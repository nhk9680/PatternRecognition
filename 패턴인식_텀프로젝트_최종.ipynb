{
  "nbformat": 4,
  "nbformat_minor": 0,
  "metadata": {
    "colab": {
      "name": "패턴인식_텀프로젝트.ipynb",
      "provenance": [],
      "collapsed_sections": [],
      "machine_shape": "hm"
    },
    "kernelspec": {
      "name": "python3",
      "display_name": "Python 3"
    },
    "accelerator": "GPU",
    "widgets": {
      "application/vnd.jupyter.widget-state+json": {
        "da3a59300dd84c8fab3c5bc5a8788203": {
          "model_module": "@jupyter-widgets/controls",
          "model_name": "HBoxModel",
          "state": {
            "_view_name": "HBoxView",
            "_dom_classes": [],
            "_model_name": "HBoxModel",
            "_view_module": "@jupyter-widgets/controls",
            "_model_module_version": "1.5.0",
            "_view_count": null,
            "_view_module_version": "1.5.0",
            "box_style": "",
            "layout": "IPY_MODEL_f0061026ef2e4958a70f7c848fe0fa63",
            "_model_module": "@jupyter-widgets/controls",
            "children": [
              "IPY_MODEL_e3f6a15f711d4ebfa64491da05000b54",
              "IPY_MODEL_a6cf68e0fde24d53980958e06a75bf65"
            ]
          }
        },
        "f0061026ef2e4958a70f7c848fe0fa63": {
          "model_module": "@jupyter-widgets/base",
          "model_name": "LayoutModel",
          "state": {
            "_view_name": "LayoutView",
            "grid_template_rows": null,
            "right": null,
            "justify_content": null,
            "_view_module": "@jupyter-widgets/base",
            "overflow": null,
            "_model_module_version": "1.2.0",
            "_view_count": null,
            "flex_flow": null,
            "width": null,
            "min_width": null,
            "border": null,
            "align_items": null,
            "bottom": null,
            "_model_module": "@jupyter-widgets/base",
            "top": null,
            "grid_column": null,
            "overflow_y": null,
            "overflow_x": null,
            "grid_auto_flow": null,
            "grid_area": null,
            "grid_template_columns": null,
            "flex": null,
            "_model_name": "LayoutModel",
            "justify_items": null,
            "grid_row": null,
            "max_height": null,
            "align_content": null,
            "visibility": null,
            "align_self": null,
            "height": null,
            "min_height": null,
            "padding": null,
            "grid_auto_rows": null,
            "grid_gap": null,
            "max_width": null,
            "order": null,
            "_view_module_version": "1.2.0",
            "grid_template_areas": null,
            "object_position": null,
            "object_fit": null,
            "grid_auto_columns": null,
            "margin": null,
            "display": null,
            "left": null
          }
        },
        "e3f6a15f711d4ebfa64491da05000b54": {
          "model_module": "@jupyter-widgets/controls",
          "model_name": "IntProgressModel",
          "state": {
            "_view_name": "ProgressView",
            "style": "IPY_MODEL_4ab6ad468eef4bb4999fb0dc307a70b0",
            "_dom_classes": [],
            "description": "",
            "_model_name": "IntProgressModel",
            "bar_style": "success",
            "max": 3060,
            "_view_module": "@jupyter-widgets/controls",
            "_model_module_version": "1.5.0",
            "value": 3060,
            "_view_count": null,
            "_view_module_version": "1.5.0",
            "orientation": "horizontal",
            "min": 0,
            "description_tooltip": null,
            "_model_module": "@jupyter-widgets/controls",
            "layout": "IPY_MODEL_e3217e8727ad4cacae49e6266f28b3d8"
          }
        },
        "a6cf68e0fde24d53980958e06a75bf65": {
          "model_module": "@jupyter-widgets/controls",
          "model_name": "HTMLModel",
          "state": {
            "_view_name": "HTMLView",
            "style": "IPY_MODEL_86e4231cc04c433880dc02df55b445a5",
            "_dom_classes": [],
            "description": "",
            "_model_name": "HTMLModel",
            "placeholder": "​",
            "_view_module": "@jupyter-widgets/controls",
            "_model_module_version": "1.5.0",
            "value": "100% 3060/3060 [00:12&lt;00:00, 242.44it/s]",
            "_view_count": null,
            "_view_module_version": "1.5.0",
            "description_tooltip": null,
            "_model_module": "@jupyter-widgets/controls",
            "layout": "IPY_MODEL_ad9c1e57c6694f01bb4e39bfddf54a15"
          }
        },
        "4ab6ad468eef4bb4999fb0dc307a70b0": {
          "model_module": "@jupyter-widgets/controls",
          "model_name": "ProgressStyleModel",
          "state": {
            "_view_name": "StyleView",
            "_model_name": "ProgressStyleModel",
            "description_width": "",
            "_view_module": "@jupyter-widgets/base",
            "_model_module_version": "1.5.0",
            "_view_count": null,
            "_view_module_version": "1.2.0",
            "bar_color": null,
            "_model_module": "@jupyter-widgets/controls"
          }
        },
        "e3217e8727ad4cacae49e6266f28b3d8": {
          "model_module": "@jupyter-widgets/base",
          "model_name": "LayoutModel",
          "state": {
            "_view_name": "LayoutView",
            "grid_template_rows": null,
            "right": null,
            "justify_content": null,
            "_view_module": "@jupyter-widgets/base",
            "overflow": null,
            "_model_module_version": "1.2.0",
            "_view_count": null,
            "flex_flow": null,
            "width": null,
            "min_width": null,
            "border": null,
            "align_items": null,
            "bottom": null,
            "_model_module": "@jupyter-widgets/base",
            "top": null,
            "grid_column": null,
            "overflow_y": null,
            "overflow_x": null,
            "grid_auto_flow": null,
            "grid_area": null,
            "grid_template_columns": null,
            "flex": null,
            "_model_name": "LayoutModel",
            "justify_items": null,
            "grid_row": null,
            "max_height": null,
            "align_content": null,
            "visibility": null,
            "align_self": null,
            "height": null,
            "min_height": null,
            "padding": null,
            "grid_auto_rows": null,
            "grid_gap": null,
            "max_width": null,
            "order": null,
            "_view_module_version": "1.2.0",
            "grid_template_areas": null,
            "object_position": null,
            "object_fit": null,
            "grid_auto_columns": null,
            "margin": null,
            "display": null,
            "left": null
          }
        },
        "86e4231cc04c433880dc02df55b445a5": {
          "model_module": "@jupyter-widgets/controls",
          "model_name": "DescriptionStyleModel",
          "state": {
            "_view_name": "StyleView",
            "_model_name": "DescriptionStyleModel",
            "description_width": "",
            "_view_module": "@jupyter-widgets/base",
            "_model_module_version": "1.5.0",
            "_view_count": null,
            "_view_module_version": "1.2.0",
            "_model_module": "@jupyter-widgets/controls"
          }
        },
        "ad9c1e57c6694f01bb4e39bfddf54a15": {
          "model_module": "@jupyter-widgets/base",
          "model_name": "LayoutModel",
          "state": {
            "_view_name": "LayoutView",
            "grid_template_rows": null,
            "right": null,
            "justify_content": null,
            "_view_module": "@jupyter-widgets/base",
            "overflow": null,
            "_model_module_version": "1.2.0",
            "_view_count": null,
            "flex_flow": null,
            "width": null,
            "min_width": null,
            "border": null,
            "align_items": null,
            "bottom": null,
            "_model_module": "@jupyter-widgets/base",
            "top": null,
            "grid_column": null,
            "overflow_y": null,
            "overflow_x": null,
            "grid_auto_flow": null,
            "grid_area": null,
            "grid_template_columns": null,
            "flex": null,
            "_model_name": "LayoutModel",
            "justify_items": null,
            "grid_row": null,
            "max_height": null,
            "align_content": null,
            "visibility": null,
            "align_self": null,
            "height": null,
            "min_height": null,
            "padding": null,
            "grid_auto_rows": null,
            "grid_gap": null,
            "max_width": null,
            "order": null,
            "_view_module_version": "1.2.0",
            "grid_template_areas": null,
            "object_position": null,
            "object_fit": null,
            "grid_auto_columns": null,
            "margin": null,
            "display": null,
            "left": null
          }
        },
        "6746341120824772b881ac2dbcf5e725": {
          "model_module": "@jupyter-widgets/controls",
          "model_name": "HBoxModel",
          "state": {
            "_view_name": "HBoxView",
            "_dom_classes": [],
            "_model_name": "HBoxModel",
            "_view_module": "@jupyter-widgets/controls",
            "_model_module_version": "1.5.0",
            "_view_count": null,
            "_view_module_version": "1.5.0",
            "box_style": "",
            "layout": "IPY_MODEL_ceb658eb5c0f4328a0ee4ccfbe173553",
            "_model_module": "@jupyter-widgets/controls",
            "children": [
              "IPY_MODEL_0cd727de2cca45bd88bbc42661fb6777",
              "IPY_MODEL_dacb461b1c554d37aed651a4f1ce297f"
            ]
          }
        },
        "ceb658eb5c0f4328a0ee4ccfbe173553": {
          "model_module": "@jupyter-widgets/base",
          "model_name": "LayoutModel",
          "state": {
            "_view_name": "LayoutView",
            "grid_template_rows": null,
            "right": null,
            "justify_content": null,
            "_view_module": "@jupyter-widgets/base",
            "overflow": null,
            "_model_module_version": "1.2.0",
            "_view_count": null,
            "flex_flow": null,
            "width": null,
            "min_width": null,
            "border": null,
            "align_items": null,
            "bottom": null,
            "_model_module": "@jupyter-widgets/base",
            "top": null,
            "grid_column": null,
            "overflow_y": null,
            "overflow_x": null,
            "grid_auto_flow": null,
            "grid_area": null,
            "grid_template_columns": null,
            "flex": null,
            "_model_name": "LayoutModel",
            "justify_items": null,
            "grid_row": null,
            "max_height": null,
            "align_content": null,
            "visibility": null,
            "align_self": null,
            "height": null,
            "min_height": null,
            "padding": null,
            "grid_auto_rows": null,
            "grid_gap": null,
            "max_width": null,
            "order": null,
            "_view_module_version": "1.2.0",
            "grid_template_areas": null,
            "object_position": null,
            "object_fit": null,
            "grid_auto_columns": null,
            "margin": null,
            "display": null,
            "left": null
          }
        },
        "0cd727de2cca45bd88bbc42661fb6777": {
          "model_module": "@jupyter-widgets/controls",
          "model_name": "IntProgressModel",
          "state": {
            "_view_name": "ProgressView",
            "style": "IPY_MODEL_6cc8aa2405ba473bb403066cfb6c52cb",
            "_dom_classes": [],
            "description": "",
            "_model_name": "IntProgressModel",
            "bar_style": "success",
            "max": 1692,
            "_view_module": "@jupyter-widgets/controls",
            "_model_module_version": "1.5.0",
            "value": 1692,
            "_view_count": null,
            "_view_module_version": "1.5.0",
            "orientation": "horizontal",
            "min": 0,
            "description_tooltip": null,
            "_model_module": "@jupyter-widgets/controls",
            "layout": "IPY_MODEL_c863cad6db434946bc7f5796e50c2237"
          }
        },
        "dacb461b1c554d37aed651a4f1ce297f": {
          "model_module": "@jupyter-widgets/controls",
          "model_name": "HTMLModel",
          "state": {
            "_view_name": "HTMLView",
            "style": "IPY_MODEL_1b989df7b25b4dcf88ad171a0b648705",
            "_dom_classes": [],
            "description": "",
            "_model_name": "HTMLModel",
            "placeholder": "​",
            "_view_module": "@jupyter-widgets/controls",
            "_model_module_version": "1.5.0",
            "value": "100% 1692/1692 [00:07&lt;00:00, 239.38it/s]",
            "_view_count": null,
            "_view_module_version": "1.5.0",
            "description_tooltip": null,
            "_model_module": "@jupyter-widgets/controls",
            "layout": "IPY_MODEL_f5d64961bdc14a68843313606c3a6c12"
          }
        },
        "6cc8aa2405ba473bb403066cfb6c52cb": {
          "model_module": "@jupyter-widgets/controls",
          "model_name": "ProgressStyleModel",
          "state": {
            "_view_name": "StyleView",
            "_model_name": "ProgressStyleModel",
            "description_width": "",
            "_view_module": "@jupyter-widgets/base",
            "_model_module_version": "1.5.0",
            "_view_count": null,
            "_view_module_version": "1.2.0",
            "bar_color": null,
            "_model_module": "@jupyter-widgets/controls"
          }
        },
        "c863cad6db434946bc7f5796e50c2237": {
          "model_module": "@jupyter-widgets/base",
          "model_name": "LayoutModel",
          "state": {
            "_view_name": "LayoutView",
            "grid_template_rows": null,
            "right": null,
            "justify_content": null,
            "_view_module": "@jupyter-widgets/base",
            "overflow": null,
            "_model_module_version": "1.2.0",
            "_view_count": null,
            "flex_flow": null,
            "width": null,
            "min_width": null,
            "border": null,
            "align_items": null,
            "bottom": null,
            "_model_module": "@jupyter-widgets/base",
            "top": null,
            "grid_column": null,
            "overflow_y": null,
            "overflow_x": null,
            "grid_auto_flow": null,
            "grid_area": null,
            "grid_template_columns": null,
            "flex": null,
            "_model_name": "LayoutModel",
            "justify_items": null,
            "grid_row": null,
            "max_height": null,
            "align_content": null,
            "visibility": null,
            "align_self": null,
            "height": null,
            "min_height": null,
            "padding": null,
            "grid_auto_rows": null,
            "grid_gap": null,
            "max_width": null,
            "order": null,
            "_view_module_version": "1.2.0",
            "grid_template_areas": null,
            "object_position": null,
            "object_fit": null,
            "grid_auto_columns": null,
            "margin": null,
            "display": null,
            "left": null
          }
        },
        "1b989df7b25b4dcf88ad171a0b648705": {
          "model_module": "@jupyter-widgets/controls",
          "model_name": "DescriptionStyleModel",
          "state": {
            "_view_name": "StyleView",
            "_model_name": "DescriptionStyleModel",
            "description_width": "",
            "_view_module": "@jupyter-widgets/base",
            "_model_module_version": "1.5.0",
            "_view_count": null,
            "_view_module_version": "1.2.0",
            "_model_module": "@jupyter-widgets/controls"
          }
        },
        "f5d64961bdc14a68843313606c3a6c12": {
          "model_module": "@jupyter-widgets/base",
          "model_name": "LayoutModel",
          "state": {
            "_view_name": "LayoutView",
            "grid_template_rows": null,
            "right": null,
            "justify_content": null,
            "_view_module": "@jupyter-widgets/base",
            "overflow": null,
            "_model_module_version": "1.2.0",
            "_view_count": null,
            "flex_flow": null,
            "width": null,
            "min_width": null,
            "border": null,
            "align_items": null,
            "bottom": null,
            "_model_module": "@jupyter-widgets/base",
            "top": null,
            "grid_column": null,
            "overflow_y": null,
            "overflow_x": null,
            "grid_auto_flow": null,
            "grid_area": null,
            "grid_template_columns": null,
            "flex": null,
            "_model_name": "LayoutModel",
            "justify_items": null,
            "grid_row": null,
            "max_height": null,
            "align_content": null,
            "visibility": null,
            "align_self": null,
            "height": null,
            "min_height": null,
            "padding": null,
            "grid_auto_rows": null,
            "grid_gap": null,
            "max_width": null,
            "order": null,
            "_view_module_version": "1.2.0",
            "grid_template_areas": null,
            "object_position": null,
            "object_fit": null,
            "grid_auto_columns": null,
            "margin": null,
            "display": null,
            "left": null
          }
        },
        "e2eb349189074a028aabd9ad7b78ae59": {
          "model_module": "@jupyter-widgets/controls",
          "model_name": "HBoxModel",
          "state": {
            "_view_name": "HBoxView",
            "_dom_classes": [],
            "_model_name": "HBoxModel",
            "_view_module": "@jupyter-widgets/controls",
            "_model_module_version": "1.5.0",
            "_view_count": null,
            "_view_module_version": "1.5.0",
            "box_style": "",
            "layout": "IPY_MODEL_dccfb4c382114b3d9ac871c62bb47fae",
            "_model_module": "@jupyter-widgets/controls",
            "children": [
              "IPY_MODEL_88c4853d34ff497eadf05178e7d0c758",
              "IPY_MODEL_ab58505ff1304535970b903f31af1c35"
            ]
          }
        },
        "dccfb4c382114b3d9ac871c62bb47fae": {
          "model_module": "@jupyter-widgets/base",
          "model_name": "LayoutModel",
          "state": {
            "_view_name": "LayoutView",
            "grid_template_rows": null,
            "right": null,
            "justify_content": null,
            "_view_module": "@jupyter-widgets/base",
            "overflow": null,
            "_model_module_version": "1.2.0",
            "_view_count": null,
            "flex_flow": null,
            "width": null,
            "min_width": null,
            "border": null,
            "align_items": null,
            "bottom": null,
            "_model_module": "@jupyter-widgets/base",
            "top": null,
            "grid_column": null,
            "overflow_y": null,
            "overflow_x": null,
            "grid_auto_flow": null,
            "grid_area": null,
            "grid_template_columns": null,
            "flex": null,
            "_model_name": "LayoutModel",
            "justify_items": null,
            "grid_row": null,
            "max_height": null,
            "align_content": null,
            "visibility": null,
            "align_self": null,
            "height": null,
            "min_height": null,
            "padding": null,
            "grid_auto_rows": null,
            "grid_gap": null,
            "max_width": null,
            "order": null,
            "_view_module_version": "1.2.0",
            "grid_template_areas": null,
            "object_position": null,
            "object_fit": null,
            "grid_auto_columns": null,
            "margin": null,
            "display": null,
            "left": null
          }
        },
        "88c4853d34ff497eadf05178e7d0c758": {
          "model_module": "@jupyter-widgets/controls",
          "model_name": "IntProgressModel",
          "state": {
            "_view_name": "ProgressView",
            "style": "IPY_MODEL_41df05ad8641430290387054f266ee2b",
            "_dom_classes": [],
            "description": "",
            "_model_name": "IntProgressModel",
            "bar_style": "success",
            "max": 3060,
            "_view_module": "@jupyter-widgets/controls",
            "_model_module_version": "1.5.0",
            "value": 3060,
            "_view_count": null,
            "_view_module_version": "1.5.0",
            "orientation": "horizontal",
            "min": 0,
            "description_tooltip": null,
            "_model_module": "@jupyter-widgets/controls",
            "layout": "IPY_MODEL_25452f333ce745deba7c42f29b42215e"
          }
        },
        "ab58505ff1304535970b903f31af1c35": {
          "model_module": "@jupyter-widgets/controls",
          "model_name": "HTMLModel",
          "state": {
            "_view_name": "HTMLView",
            "style": "IPY_MODEL_76015f9b3f024be693dc3a9a8f495d1f",
            "_dom_classes": [],
            "description": "",
            "_model_name": "HTMLModel",
            "placeholder": "​",
            "_view_module": "@jupyter-widgets/controls",
            "_model_module_version": "1.5.0",
            "value": "100% 3060/3060 [05:42&lt;00:00,  8.09it/s]",
            "_view_count": null,
            "_view_module_version": "1.5.0",
            "description_tooltip": null,
            "_model_module": "@jupyter-widgets/controls",
            "layout": "IPY_MODEL_3fd08cc17ee2451da7fe0dbd1482cf8a"
          }
        },
        "41df05ad8641430290387054f266ee2b": {
          "model_module": "@jupyter-widgets/controls",
          "model_name": "ProgressStyleModel",
          "state": {
            "_view_name": "StyleView",
            "_model_name": "ProgressStyleModel",
            "description_width": "",
            "_view_module": "@jupyter-widgets/base",
            "_model_module_version": "1.5.0",
            "_view_count": null,
            "_view_module_version": "1.2.0",
            "bar_color": null,
            "_model_module": "@jupyter-widgets/controls"
          }
        },
        "25452f333ce745deba7c42f29b42215e": {
          "model_module": "@jupyter-widgets/base",
          "model_name": "LayoutModel",
          "state": {
            "_view_name": "LayoutView",
            "grid_template_rows": null,
            "right": null,
            "justify_content": null,
            "_view_module": "@jupyter-widgets/base",
            "overflow": null,
            "_model_module_version": "1.2.0",
            "_view_count": null,
            "flex_flow": null,
            "width": null,
            "min_width": null,
            "border": null,
            "align_items": null,
            "bottom": null,
            "_model_module": "@jupyter-widgets/base",
            "top": null,
            "grid_column": null,
            "overflow_y": null,
            "overflow_x": null,
            "grid_auto_flow": null,
            "grid_area": null,
            "grid_template_columns": null,
            "flex": null,
            "_model_name": "LayoutModel",
            "justify_items": null,
            "grid_row": null,
            "max_height": null,
            "align_content": null,
            "visibility": null,
            "align_self": null,
            "height": null,
            "min_height": null,
            "padding": null,
            "grid_auto_rows": null,
            "grid_gap": null,
            "max_width": null,
            "order": null,
            "_view_module_version": "1.2.0",
            "grid_template_areas": null,
            "object_position": null,
            "object_fit": null,
            "grid_auto_columns": null,
            "margin": null,
            "display": null,
            "left": null
          }
        },
        "76015f9b3f024be693dc3a9a8f495d1f": {
          "model_module": "@jupyter-widgets/controls",
          "model_name": "DescriptionStyleModel",
          "state": {
            "_view_name": "StyleView",
            "_model_name": "DescriptionStyleModel",
            "description_width": "",
            "_view_module": "@jupyter-widgets/base",
            "_model_module_version": "1.5.0",
            "_view_count": null,
            "_view_module_version": "1.2.0",
            "_model_module": "@jupyter-widgets/controls"
          }
        },
        "3fd08cc17ee2451da7fe0dbd1482cf8a": {
          "model_module": "@jupyter-widgets/base",
          "model_name": "LayoutModel",
          "state": {
            "_view_name": "LayoutView",
            "grid_template_rows": null,
            "right": null,
            "justify_content": null,
            "_view_module": "@jupyter-widgets/base",
            "overflow": null,
            "_model_module_version": "1.2.0",
            "_view_count": null,
            "flex_flow": null,
            "width": null,
            "min_width": null,
            "border": null,
            "align_items": null,
            "bottom": null,
            "_model_module": "@jupyter-widgets/base",
            "top": null,
            "grid_column": null,
            "overflow_y": null,
            "overflow_x": null,
            "grid_auto_flow": null,
            "grid_area": null,
            "grid_template_columns": null,
            "flex": null,
            "_model_name": "LayoutModel",
            "justify_items": null,
            "grid_row": null,
            "max_height": null,
            "align_content": null,
            "visibility": null,
            "align_self": null,
            "height": null,
            "min_height": null,
            "padding": null,
            "grid_auto_rows": null,
            "grid_gap": null,
            "max_width": null,
            "order": null,
            "_view_module_version": "1.2.0",
            "grid_template_areas": null,
            "object_position": null,
            "object_fit": null,
            "grid_auto_columns": null,
            "margin": null,
            "display": null,
            "left": null
          }
        },
        "e5328e47a0124876bf7ffbff38877286": {
          "model_module": "@jupyter-widgets/controls",
          "model_name": "HBoxModel",
          "state": {
            "_view_name": "HBoxView",
            "_dom_classes": [],
            "_model_name": "HBoxModel",
            "_view_module": "@jupyter-widgets/controls",
            "_model_module_version": "1.5.0",
            "_view_count": null,
            "_view_module_version": "1.5.0",
            "box_style": "",
            "layout": "IPY_MODEL_5b9e25edb3e94370b9f818ccc424ede0",
            "_model_module": "@jupyter-widgets/controls",
            "children": [
              "IPY_MODEL_9b4d94c25d7a4c15b67d0b4729b28168",
              "IPY_MODEL_1add766148aa43acb3d27ffe1bf98856"
            ]
          }
        },
        "5b9e25edb3e94370b9f818ccc424ede0": {
          "model_module": "@jupyter-widgets/base",
          "model_name": "LayoutModel",
          "state": {
            "_view_name": "LayoutView",
            "grid_template_rows": null,
            "right": null,
            "justify_content": null,
            "_view_module": "@jupyter-widgets/base",
            "overflow": null,
            "_model_module_version": "1.2.0",
            "_view_count": null,
            "flex_flow": null,
            "width": null,
            "min_width": null,
            "border": null,
            "align_items": null,
            "bottom": null,
            "_model_module": "@jupyter-widgets/base",
            "top": null,
            "grid_column": null,
            "overflow_y": null,
            "overflow_x": null,
            "grid_auto_flow": null,
            "grid_area": null,
            "grid_template_columns": null,
            "flex": null,
            "_model_name": "LayoutModel",
            "justify_items": null,
            "grid_row": null,
            "max_height": null,
            "align_content": null,
            "visibility": null,
            "align_self": null,
            "height": null,
            "min_height": null,
            "padding": null,
            "grid_auto_rows": null,
            "grid_gap": null,
            "max_width": null,
            "order": null,
            "_view_module_version": "1.2.0",
            "grid_template_areas": null,
            "object_position": null,
            "object_fit": null,
            "grid_auto_columns": null,
            "margin": null,
            "display": null,
            "left": null
          }
        },
        "9b4d94c25d7a4c15b67d0b4729b28168": {
          "model_module": "@jupyter-widgets/controls",
          "model_name": "IntProgressModel",
          "state": {
            "_view_name": "ProgressView",
            "style": "IPY_MODEL_9c1651ce6d044f00bc92d1103f74bf8f",
            "_dom_classes": [],
            "description": "",
            "_model_name": "IntProgressModel",
            "bar_style": "success",
            "max": 1692,
            "_view_module": "@jupyter-widgets/controls",
            "_model_module_version": "1.5.0",
            "value": 1692,
            "_view_count": null,
            "_view_module_version": "1.5.0",
            "orientation": "horizontal",
            "min": 0,
            "description_tooltip": null,
            "_model_module": "@jupyter-widgets/controls",
            "layout": "IPY_MODEL_ca736e2d38614d329d12f85419e2f2b7"
          }
        },
        "1add766148aa43acb3d27ffe1bf98856": {
          "model_module": "@jupyter-widgets/controls",
          "model_name": "HTMLModel",
          "state": {
            "_view_name": "HTMLView",
            "style": "IPY_MODEL_97718643cbb44864a93169986c7f11e4",
            "_dom_classes": [],
            "description": "",
            "_model_name": "HTMLModel",
            "placeholder": "​",
            "_view_module": "@jupyter-widgets/controls",
            "_model_module_version": "1.5.0",
            "value": "100% 1692/1692 [02:47&lt;00:00, 10.12it/s]",
            "_view_count": null,
            "_view_module_version": "1.5.0",
            "description_tooltip": null,
            "_model_module": "@jupyter-widgets/controls",
            "layout": "IPY_MODEL_7f74c4bb192b44fb954951a3890ca727"
          }
        },
        "9c1651ce6d044f00bc92d1103f74bf8f": {
          "model_module": "@jupyter-widgets/controls",
          "model_name": "ProgressStyleModel",
          "state": {
            "_view_name": "StyleView",
            "_model_name": "ProgressStyleModel",
            "description_width": "",
            "_view_module": "@jupyter-widgets/base",
            "_model_module_version": "1.5.0",
            "_view_count": null,
            "_view_module_version": "1.2.0",
            "bar_color": null,
            "_model_module": "@jupyter-widgets/controls"
          }
        },
        "ca736e2d38614d329d12f85419e2f2b7": {
          "model_module": "@jupyter-widgets/base",
          "model_name": "LayoutModel",
          "state": {
            "_view_name": "LayoutView",
            "grid_template_rows": null,
            "right": null,
            "justify_content": null,
            "_view_module": "@jupyter-widgets/base",
            "overflow": null,
            "_model_module_version": "1.2.0",
            "_view_count": null,
            "flex_flow": null,
            "width": null,
            "min_width": null,
            "border": null,
            "align_items": null,
            "bottom": null,
            "_model_module": "@jupyter-widgets/base",
            "top": null,
            "grid_column": null,
            "overflow_y": null,
            "overflow_x": null,
            "grid_auto_flow": null,
            "grid_area": null,
            "grid_template_columns": null,
            "flex": null,
            "_model_name": "LayoutModel",
            "justify_items": null,
            "grid_row": null,
            "max_height": null,
            "align_content": null,
            "visibility": null,
            "align_self": null,
            "height": null,
            "min_height": null,
            "padding": null,
            "grid_auto_rows": null,
            "grid_gap": null,
            "max_width": null,
            "order": null,
            "_view_module_version": "1.2.0",
            "grid_template_areas": null,
            "object_position": null,
            "object_fit": null,
            "grid_auto_columns": null,
            "margin": null,
            "display": null,
            "left": null
          }
        },
        "97718643cbb44864a93169986c7f11e4": {
          "model_module": "@jupyter-widgets/controls",
          "model_name": "DescriptionStyleModel",
          "state": {
            "_view_name": "StyleView",
            "_model_name": "DescriptionStyleModel",
            "description_width": "",
            "_view_module": "@jupyter-widgets/base",
            "_model_module_version": "1.5.0",
            "_view_count": null,
            "_view_module_version": "1.2.0",
            "_model_module": "@jupyter-widgets/controls"
          }
        },
        "7f74c4bb192b44fb954951a3890ca727": {
          "model_module": "@jupyter-widgets/base",
          "model_name": "LayoutModel",
          "state": {
            "_view_name": "LayoutView",
            "grid_template_rows": null,
            "right": null,
            "justify_content": null,
            "_view_module": "@jupyter-widgets/base",
            "overflow": null,
            "_model_module_version": "1.2.0",
            "_view_count": null,
            "flex_flow": null,
            "width": null,
            "min_width": null,
            "border": null,
            "align_items": null,
            "bottom": null,
            "_model_module": "@jupyter-widgets/base",
            "top": null,
            "grid_column": null,
            "overflow_y": null,
            "overflow_x": null,
            "grid_auto_flow": null,
            "grid_area": null,
            "grid_template_columns": null,
            "flex": null,
            "_model_name": "LayoutModel",
            "justify_items": null,
            "grid_row": null,
            "max_height": null,
            "align_content": null,
            "visibility": null,
            "align_self": null,
            "height": null,
            "min_height": null,
            "padding": null,
            "grid_auto_rows": null,
            "grid_gap": null,
            "max_width": null,
            "order": null,
            "_view_module_version": "1.2.0",
            "grid_template_areas": null,
            "object_position": null,
            "object_fit": null,
            "grid_auto_columns": null,
            "margin": null,
            "display": null,
            "left": null
          }
        }
      }
    }
  },
  "cells": [
    {
      "cell_type": "markdown",
      "metadata": {
        "id": "Gu1SYK2_nUMh",
        "colab_type": "text"
      },
      "source": [
        "# Google Drive 마운트\n",
        "\n",
        "`.pkl` 파일 백업을 위해 연결해둡니다."
      ]
    },
    {
      "cell_type": "code",
      "metadata": {
        "id": "A-Fb2qUWOuB6",
        "colab_type": "code",
        "outputId": "f89b745d-9959-4f3a-9a26-7fffce167ee7",
        "colab": {
          "base_uri": "https://localhost:8080/",
          "height": 127
        }
      },
      "source": [
        "from google.colab import drive\n",
        "drive.mount('/content/drive')"
      ],
      "execution_count": 0,
      "outputs": [
        {
          "output_type": "stream",
          "text": [
            "Go to this URL in a browser: https://accounts.google.com/o/oauth2/auth?client_id=947318989803-6bn6qk8qdgf4n4g3pfee6491hc0brc4i.apps.googleusercontent.com&redirect_uri=urn%3aietf%3awg%3aoauth%3a2.0%3aoob&response_type=code&scope=email%20https%3a%2f%2fwww.googleapis.com%2fauth%2fdocs.test%20https%3a%2f%2fwww.googleapis.com%2fauth%2fdrive%20https%3a%2f%2fwww.googleapis.com%2fauth%2fdrive.photos.readonly%20https%3a%2f%2fwww.googleapis.com%2fauth%2fpeopleapi.readonly\n",
            "\n",
            "Enter your authorization code:\n",
            "··········\n",
            "Mounted at /content/drive\n"
          ],
          "name": "stdout"
        }
      ]
    },
    {
      "cell_type": "markdown",
      "metadata": {
        "id": "RtJ-XEHxntb4",
        "colab_type": "text"
      },
      "source": [
        "# 파라미터 설정"
      ]
    },
    {
      "cell_type": "code",
      "metadata": {
        "id": "thQeZN6j7Yze",
        "colab_type": "code",
        "colab": {}
      },
      "source": [
        "k=400 # size of codebook(kmeans)\n",
        "imgsize = 256 #resize target\n",
        "step_size = 8 #Step of SIFT\n",
        "L = 2 #Level of SPM"
      ],
      "execution_count": 0,
      "outputs": []
    },
    {
      "cell_type": "markdown",
      "metadata": {
        "id": "l6CWJp_XoSvB",
        "colab_type": "text"
      },
      "source": [
        "# OpenCV SIFT 사용을 위한 재설치\n",
        "\n",
        "- 최신 버전은 SIFT를 지원하지 않으므로 다운그레이드 합니다.\n",
        "\n",
        "## Kmeans-GPU 설치"
      ]
    },
    {
      "cell_type": "code",
      "metadata": {
        "id": "tIl2UsLY6Ayz",
        "colab_type": "code",
        "outputId": "37b8fa82-0fb5-4ae1-d2f8-dcdea7080a14",
        "colab": {
          "base_uri": "https://localhost:8080/",
          "height": 649
        }
      },
      "source": [
        "!pip uninstall -y opencv-python\n",
        "!pip uninstall -y opencv-contrib-python\n",
        "\n",
        "!pip install opencv-python==3.4.2.17\n",
        "!pip install opencv-contrib-python==3.4.2.17\n",
        "\n",
        "!pip install kmc2"
      ],
      "execution_count": 0,
      "outputs": [
        {
          "output_type": "stream",
          "text": [
            "Uninstalling opencv-python-4.1.2.30:\n",
            "  Successfully uninstalled opencv-python-4.1.2.30\n",
            "Uninstalling opencv-contrib-python-4.1.2.30:\n",
            "  Successfully uninstalled opencv-contrib-python-4.1.2.30\n",
            "Collecting opencv-python==3.4.2.17\n",
            "\u001b[?25l  Downloading https://files.pythonhosted.org/packages/53/e0/21c8964fa8ef50842ebefaa7346a3cf0e37b56c8ecd97ed6bd2dbe577705/opencv_python-3.4.2.17-cp36-cp36m-manylinux1_x86_64.whl (25.0MB)\n",
            "\u001b[K     |████████████████████████████████| 25.0MB 102kB/s \n",
            "\u001b[?25hRequirement already satisfied: numpy>=1.11.3 in /usr/local/lib/python3.6/dist-packages (from opencv-python==3.4.2.17) (1.17.4)\n",
            "\u001b[31mERROR: albumentations 0.1.12 has requirement imgaug<0.2.7,>=0.2.5, but you'll have imgaug 0.2.9 which is incompatible.\u001b[0m\n",
            "Installing collected packages: opencv-python\n",
            "Successfully installed opencv-python-3.4.2.17\n",
            "Collecting opencv-contrib-python==3.4.2.17\n",
            "\u001b[?25l  Downloading https://files.pythonhosted.org/packages/61/29/fc60b2de1713aa92946992544329f20ccb5e4ba26290f403e04b7da44105/opencv_contrib_python-3.4.2.17-cp36-cp36m-manylinux1_x86_64.whl (30.6MB)\n",
            "\u001b[K     |████████████████████████████████| 30.6MB 1.5MB/s \n",
            "\u001b[?25hRequirement already satisfied: numpy>=1.11.3 in /usr/local/lib/python3.6/dist-packages (from opencv-contrib-python==3.4.2.17) (1.17.4)\n",
            "Installing collected packages: opencv-contrib-python\n",
            "Successfully installed opencv-contrib-python-3.4.2.17\n",
            "Collecting kmc2\n",
            "\u001b[?25l  Downloading https://files.pythonhosted.org/packages/b6/a2/42b2dd4fa0c425912c03222dd443f1d6aceed410a29467d1e5d8989c72f1/kmc2-0.1.tar.gz (102kB)\n",
            "\u001b[K     |████████████████████████████████| 102kB 2.4MB/s \n",
            "\u001b[?25hRequirement already satisfied: numpy in /usr/local/lib/python3.6/dist-packages (from kmc2) (1.17.4)\n",
            "Requirement already satisfied: scipy in /usr/local/lib/python3.6/dist-packages (from kmc2) (1.3.3)\n",
            "Requirement already satisfied: scikit-learn in /usr/local/lib/python3.6/dist-packages (from kmc2) (0.21.3)\n",
            "Collecting nose\n",
            "\u001b[?25l  Downloading https://files.pythonhosted.org/packages/15/d8/dd071918c040f50fa1cf80da16423af51ff8ce4a0f2399b7bf8de45ac3d9/nose-1.3.7-py3-none-any.whl (154kB)\n",
            "\u001b[K     |████████████████████████████████| 163kB 8.4MB/s \n",
            "\u001b[?25hRequirement already satisfied: joblib>=0.11 in /usr/local/lib/python3.6/dist-packages (from scikit-learn->kmc2) (0.14.1)\n",
            "Building wheels for collected packages: kmc2\n",
            "  Building wheel for kmc2 (setup.py) ... \u001b[?25l\u001b[?25hdone\n",
            "  Created wheel for kmc2: filename=kmc2-0.1-cp36-cp36m-linux_x86_64.whl size=252208 sha256=1220b38f791dcb5d08f672a9b9ad8c2f03279206e6332b1b80b7d80137658561\n",
            "  Stored in directory: /root/.cache/pip/wheels/5c/ba/f0/4c8b421be72d4f2d1a93233c2f6f591e7d8b0bda05a1f4616f\n",
            "Successfully built kmc2\n",
            "Installing collected packages: nose, kmc2\n",
            "Successfully installed kmc2-0.1 nose-1.3.7\n"
          ],
          "name": "stdout"
        }
      ]
    },
    {
      "cell_type": "markdown",
      "metadata": {
        "id": "NjtFOpvYoi2I",
        "colab_type": "text"
      },
      "source": [
        "# 라이브러리 로드"
      ]
    },
    {
      "cell_type": "code",
      "metadata": {
        "id": "70HOHhcb6FCS",
        "colab_type": "code",
        "colab": {}
      },
      "source": [
        "import zipfile  # 데이터셋 압축 해제\n",
        "import os       # 파일 경로\n",
        "import cv2      # SIFT\n",
        "import numpy as np  #이미지 행렬\n",
        "import time     # 실행시간 측정\n",
        "import pickle   # 결과물 저장\n",
        "import math     # SPM에서 평균, 분산\n",
        "\n",
        "from sklearn import preprocessing   #데이터셋 전처리\n",
        "from sklearn.decomposition import PCA\n",
        "from sklearn.model_selection import train_test_split  # cross-validation\n",
        "from sklearn.svm import SVC, LinearSVC  #SVM\n",
        "from sklearn.model_selection import GridSearchCV    #파라미터 튜닝\n",
        "from sklearn.cluster import KMeans, MiniBatchKMeans #Kmeans(소규모 메모리)\n",
        "from sklearn.metrics import classification_report   #결과 측정\n",
        "from sklearn.discriminant_analysis import LinearDiscriminantAnalysis  #LDA\n",
        "\n",
        "import kmc2   #Kmeans-GPU\n",
        "from pandas import read_csv   #데이터셋 라벨 로드\n",
        "from google.colab import files  # \n",
        "from tqdm import tqdm_notebook as tqdm\n",
        "from scipy.cluster.vq import vq"
      ],
      "execution_count": 0,
      "outputs": []
    },
    {
      "cell_type": "markdown",
      "metadata": {
        "id": "cfaj-z9FomBX",
        "colab_type": "text"
      },
      "source": [
        "# Kaggle Token 로드\n",
        "\n",
        "- github에 저장해둔 `kaggle.json` 파일을 다운로드합니다.\n",
        "\n",
        "- kaggle API를 1.5.6 버전으로 재설치합니다."
      ]
    },
    {
      "cell_type": "code",
      "metadata": {
        "id": "PbOyWtob6HZy",
        "colab_type": "code",
        "outputId": "824ca24b-89cb-441d-e693-2ae551b473ce",
        "colab": {
          "base_uri": "https://localhost:8080/",
          "height": 631
        }
      },
      "source": [
        "!wget https://raw.githubusercontent.com/nhk9680/storage/master/asdf\n",
        "!mv asdf kaggle.json\n",
        "\n",
        "! pip uninstall -y kaggle\n",
        "! pip install kaggle==1.5.6\n",
        "! mkdir -p ~/.kaggle\n",
        "! cp kaggle.json ~/.kaggle/\n",
        "! chmod 600 ~/.kaggle/kaggle.json"
      ],
      "execution_count": 0,
      "outputs": [
        {
          "output_type": "stream",
          "text": [
            "--2019-12-14 02:02:32--  https://raw.githubusercontent.com/nhk9680/storage/master/asdf\n",
            "Resolving raw.githubusercontent.com (raw.githubusercontent.com)... 151.101.0.133, 151.101.64.133, 151.101.128.133, ...\n",
            "Connecting to raw.githubusercontent.com (raw.githubusercontent.com)|151.101.0.133|:443... connected.\n",
            "HTTP request sent, awaiting response... 200 OK\n",
            "Length: 63 [text/plain]\n",
            "Saving to: ‘asdf’\n",
            "\n",
            "\rasdf                  0%[                    ]       0  --.-KB/s               \rasdf                100%[===================>]      63  --.-KB/s    in 0s      \n",
            "\n",
            "2019-12-14 02:02:33 (17.2 MB/s) - ‘asdf’ saved [63/63]\n",
            "\n",
            "Uninstalling kaggle-1.5.6:\n",
            "  Successfully uninstalled kaggle-1.5.6\n",
            "Collecting kaggle==1.5.6\n",
            "\u001b[?25l  Downloading https://files.pythonhosted.org/packages/62/ab/bb20f9b9e24f9a6250f95a432f8d9a7d745f8d24039d7a5a6eaadb7783ba/kaggle-1.5.6.tar.gz (58kB)\n",
            "\u001b[K     |████████████████████████████████| 61kB 2.0MB/s \n",
            "\u001b[?25hRequirement already satisfied: urllib3<1.25,>=1.21.1 in /usr/local/lib/python3.6/dist-packages (from kaggle==1.5.6) (1.24.3)\n",
            "Requirement already satisfied: six>=1.10 in /usr/local/lib/python3.6/dist-packages (from kaggle==1.5.6) (1.12.0)\n",
            "Requirement already satisfied: certifi in /usr/local/lib/python3.6/dist-packages (from kaggle==1.5.6) (2019.11.28)\n",
            "Requirement already satisfied: python-dateutil in /usr/local/lib/python3.6/dist-packages (from kaggle==1.5.6) (2.6.1)\n",
            "Requirement already satisfied: requests in /usr/local/lib/python3.6/dist-packages (from kaggle==1.5.6) (2.21.0)\n",
            "Requirement already satisfied: tqdm in /usr/local/lib/python3.6/dist-packages (from kaggle==1.5.6) (4.28.1)\n",
            "Requirement already satisfied: python-slugify in /usr/local/lib/python3.6/dist-packages (from kaggle==1.5.6) (4.0.0)\n",
            "Requirement already satisfied: idna<2.9,>=2.5 in /usr/local/lib/python3.6/dist-packages (from requests->kaggle==1.5.6) (2.8)\n",
            "Requirement already satisfied: chardet<3.1.0,>=3.0.2 in /usr/local/lib/python3.6/dist-packages (from requests->kaggle==1.5.6) (3.0.4)\n",
            "Requirement already satisfied: text-unidecode>=1.3 in /usr/local/lib/python3.6/dist-packages (from python-slugify->kaggle==1.5.6) (1.3)\n",
            "Building wheels for collected packages: kaggle\n",
            "  Building wheel for kaggle (setup.py) ... \u001b[?25l\u001b[?25hdone\n",
            "  Created wheel for kaggle: filename=kaggle-1.5.6-cp36-none-any.whl size=72859 sha256=d6ba864339faac5a27e0ed4e789c6802875f7c45d0574764feec975e5b0ebf39\n",
            "  Stored in directory: /root/.cache/pip/wheels/57/4e/e8/bb28d035162fb8f17f8ca5d42c3230e284c6aa565b42b72674\n",
            "Successfully built kaggle\n",
            "Installing collected packages: kaggle\n",
            "Successfully installed kaggle-1.5.6\n"
          ],
          "name": "stdout"
        }
      ]
    },
    {
      "cell_type": "markdown",
      "metadata": {
        "id": "bOKdieA_pihQ",
        "colab_type": "text"
      },
      "source": [
        "# 데이터셋 세팅\n",
        "\n",
        "- kaggle에서 데이터셋 파일을 다운로드합니다."
      ]
    },
    {
      "cell_type": "code",
      "metadata": {
        "id": "0n1Y7c386Oua",
        "colab_type": "code",
        "outputId": "2624bcd6-302f-450b-ef82-203ac22123ae",
        "colab": {
          "base_uri": "https://localhost:8080/",
          "height": 71
        }
      },
      "source": [
        "! kaggle competitions download -c 2019-ml-finalproject\n",
        "\n",
        "os.mkdir('../input')\n",
        "\n",
        "zip_ref = zipfile.ZipFile(\"2019-ml-finalproject.zip\", 'r')\n",
        "zip_ref.extractall(\"../input\")\n",
        "zip_ref.close()"
      ],
      "execution_count": 0,
      "outputs": [
        {
          "output_type": "stream",
          "text": [
            "Downloading 2019-ml-finalproject.zip to /content\n",
            " 63% 41.0M/65.0M [00:01<00:01, 21.0MB/s]\n",
            "100% 65.0M/65.0M [00:01<00:00, 56.4MB/s]\n"
          ],
          "name": "stdout"
        }
      ]
    },
    {
      "cell_type": "markdown",
      "metadata": {
        "id": "kTZsrOjUurar",
        "colab_type": "text"
      },
      "source": [
        "## 데이터셋 전처리\n",
        "\n",
        "- 이미지 파일을 동일한 크기의 흑백으로 가공합니다."
      ]
    },
    {
      "cell_type": "code",
      "metadata": {
        "id": "uaRlPwTn_bc1",
        "colab_type": "code",
        "colab": {}
      },
      "source": [
        "#load images\n",
        "df_data = read_csv('/input/Label2Names.csv', header=None)\n",
        "\n",
        "#train\n",
        "train_dir = \"/input/train\"\n",
        "\n",
        "train_data = []\n",
        "train_label = []\n",
        "\n",
        "i=1\n",
        "for cls in os.listdir(train_dir):\n",
        "  img_list = os.listdir(train_dir + \"/\" + cls)\n",
        "\n",
        "  if cls == 'BACKGROUND_Google' :\n",
        "    label = 102\n",
        "    #continue\n",
        "  else:\n",
        "    label = (df_data.index[df_data[1]==cls]+1).tolist()[0]\n",
        "\n",
        "  #category\n",
        "  for img in img_list:\n",
        "\n",
        "    image = cv2.imread(train_dir +'/'+cls+'/'+img)\n",
        "    gray = cv2.cvtColor(image, cv2.COLOR_BGR2GRAY)\n",
        "    gray = cv2.resize(gray, (imgsize, imgsize))\n",
        "\n",
        "    train_data.append(gray)\n",
        "    train_label.append(label)\n",
        "\n",
        "#test\n",
        "test_dir = \"/input/testAll_v2\"\n",
        "test_data = []\n",
        "\n",
        "test_filename = os.listdir(test_dir)  # kaggle 제출을 위해 저장\n",
        "\n",
        "for img in test_filename:\n",
        "  image = cv2.imread(test_dir+'/'+img)\n",
        "  gray = cv2.cvtColor(image, cv2.COLOR_BGR2GRAY)\n",
        "  gray = cv2.resize(gray, (imgsize, imgsize))\n",
        "  test_data.append(gray)"
      ],
      "execution_count": 0,
      "outputs": []
    },
    {
      "cell_type": "markdown",
      "metadata": {
        "id": "9MKVY9tlu8fR",
        "colab_type": "text"
      },
      "source": [
        "# 특징점 추출\n",
        "\n",
        "- SIFT 기법을 이용하여, 이미지에서 특징점을 추출합니다."
      ]
    },
    {
      "cell_type": "code",
      "metadata": {
        "id": "7NafgYEx96mS",
        "colab_type": "code",
        "colab": {}
      },
      "source": [
        "def extract_SIFT(img):\n",
        "    disft_step_size = 2\n",
        "    sift = cv2.xfeatures2d.SIFT_create()\n",
        "    keypoints = [cv2.KeyPoint(x, y, disft_step_size)\n",
        "            for y in range(0, img.shape[0], disft_step_size)\n",
        "                for x in range(0, img.shape[1], disft_step_size)]\n",
        "\n",
        "    _, descriptors = sift.compute(img, keypoints)\n",
        "    \n",
        "    #keypoints, descriptors = sift.detectAndCompute(gray, None)\n",
        "    return descriptors\n",
        "\n",
        "def computeSIFT(data):\n",
        "    x = []\n",
        "    for img in tqdm(data):\n",
        "        des = extract_SIFT(img)\n",
        "        x.append(des)\n",
        "        \n",
        "    return x"
      ],
      "execution_count": 0,
      "outputs": []
    },
    {
      "cell_type": "code",
      "metadata": {
        "colab_type": "code",
        "id": "McIKQTTHgSN9",
        "outputId": "f2d9df74-3ea1-47f7-8306-a5a63b2bcbac",
        "colab": {
          "base_uri": "https://localhost:8080/",
          "height": 117,
          "referenced_widgets": [
            "da3a59300dd84c8fab3c5bc5a8788203",
            "f0061026ef2e4958a70f7c848fe0fa63",
            "e3f6a15f711d4ebfa64491da05000b54",
            "a6cf68e0fde24d53980958e06a75bf65",
            "4ab6ad468eef4bb4999fb0dc307a70b0",
            "e3217e8727ad4cacae49e6266f28b3d8",
            "86e4231cc04c433880dc02df55b445a5",
            "ad9c1e57c6694f01bb4e39bfddf54a15",
            "6746341120824772b881ac2dbcf5e725",
            "ceb658eb5c0f4328a0ee4ccfbe173553",
            "0cd727de2cca45bd88bbc42661fb6777",
            "dacb461b1c554d37aed651a4f1ce297f",
            "6cc8aa2405ba473bb403066cfb6c52cb",
            "c863cad6db434946bc7f5796e50c2237",
            "1b989df7b25b4dcf88ad171a0b648705",
            "f5d64961bdc14a68843313606c3a6c12"
          ]
        }
      },
      "source": [
        "x_train = computeSIFT(train_data)\n",
        "x_test = computeSIFT(test_data)\n",
        "\n",
        "# (-1, 128)\n",
        "# same as np.reshape(x_train, (-1,128))\n",
        "all_train_desc = []\n",
        "for i in range(len(x_train)):\n",
        "    for j in range(x_train[i].shape[0]):\n",
        "        all_train_desc.append(x_train[i][j,:])\n",
        "\n",
        "all_train_desc = np.array(all_train_desc)"
      ],
      "execution_count": 0,
      "outputs": [
        {
          "output_type": "display_data",
          "data": {
            "application/vnd.jupyter.widget-view+json": {
              "model_id": "da3a59300dd84c8fab3c5bc5a8788203",
              "version_minor": 0,
              "version_major": 2
            },
            "text/plain": [
              "HBox(children=(IntProgress(value=0, max=3060), HTML(value='')))"
            ]
          },
          "metadata": {
            "tags": []
          }
        },
        {
          "output_type": "stream",
          "text": [
            "\n"
          ],
          "name": "stdout"
        },
        {
          "output_type": "display_data",
          "data": {
            "application/vnd.jupyter.widget-view+json": {
              "model_id": "6746341120824772b881ac2dbcf5e725",
              "version_minor": 0,
              "version_major": 2
            },
            "text/plain": [
              "HBox(children=(IntProgress(value=0, max=1692), HTML(value='')))"
            ]
          },
          "metadata": {
            "tags": []
          }
        },
        {
          "output_type": "stream",
          "text": [
            "\n"
          ],
          "name": "stdout"
        }
      ]
    },
    {
      "cell_type": "markdown",
      "metadata": {
        "id": "YursuAdwyo9Q",
        "colab_type": "text"
      },
      "source": [
        "### 세이브 파일 저장(옵션)\n",
        "\n",
        "- 런타임 초기화 대비 앞서 진행했던 것들을 pickle로 묶어서 저장해둡니다.\n",
        "\n",
        "  메모리 부족 등으로 터져나갔을때 유용합니다.\n",
        "\n",
        "  데이터 용량이 크므로 직접 다운로드하지 말고, 구글 드라이브로 복사합니다.\n",
        "\n",
        "  그러나 위 과정은 그렇게 오래 걸리지 않으므로 넘어가도 됩니다."
      ]
    },
    {
      "cell_type": "code",
      "metadata": {
        "id": "W64LWfUAjJpG",
        "colab_type": "code",
        "colab": {}
      },
      "source": [
        "'''\n",
        "preprocessed_data ={\n",
        "    \"train_data\" : train_data,\n",
        "    \"train_label\" : train_label,\n",
        "    \"test_filename\" : test_filename,\n",
        "    \"test_index\" : test_index,\n",
        "    \"x_train\": x_train,\n",
        "    \"x_test\" : x_test,\n",
        "    \"all_train_desc\" : all_train_desc\n",
        "}\n",
        "with open(\"preprocessed_data.pkl\", \"wb\") as f:\n",
        "  pickle.dump(preprocessed_data, f)\n",
        "'''"
      ],
      "execution_count": 0,
      "outputs": []
    },
    {
      "cell_type": "code",
      "metadata": {
        "id": "dPfM82wFADp8",
        "colab_type": "code",
        "outputId": "ae808285-2dee-4a23-ec89-bdcaf40b30b8",
        "colab": {
          "base_uri": "https://localhost:8080/",
          "height": 143
        }
      },
      "source": [
        "'''\n",
        "for i in preprocessed_data:\n",
        "  print(i, np.array(preprocessed_data[i]).shape)\n",
        "'''"
      ],
      "execution_count": 0,
      "outputs": [
        {
          "output_type": "stream",
          "text": [
            "train_data (3060, 64, 64)\n",
            "train_label (3060,)\n",
            "test_data (1692, 64, 64)\n",
            "test_index (1692,)\n",
            "x_train (3060, 1024, 128)\n",
            "x_test (1692, 1024, 128)\n",
            "all_train_desc (3133440, 128)\n"
          ],
          "name": "stdout"
        }
      ]
    },
    {
      "cell_type": "code",
      "metadata": {
        "id": "ccWDdUkpO2T2",
        "colab_type": "code",
        "colab": {}
      },
      "source": [
        "#!cp preprocessed_data.pkl /content/drive/'My Drive'/preprocessed_data.pkl"
      ],
      "execution_count": 0,
      "outputs": []
    },
    {
      "cell_type": "code",
      "metadata": {
        "id": "JSVshZOTnzW3",
        "colab_type": "code",
        "colab": {}
      },
      "source": [
        "'''\n",
        "with open(\"preprocessed_data.pkl\", \"rb\") as f:\n",
        "  preprocessed_data = pickle.load(f)\n",
        "  \n",
        "train_data = preprocessed_data[\"train_data\"]\n",
        "train_label = preprocessed_data[\"train_label\"]\n",
        "test_data = preprocessed_data[\"test_data\"]\n",
        "x_train = preprocessed_data[\"x_train\"]\n",
        "x_test = preprocessed_data[\"x_test\"]\n",
        "all_train_desc = preprocessed_data[\"all_train_desc\"]\n",
        "'''"
      ],
      "execution_count": 0,
      "outputs": []
    },
    {
      "cell_type": "markdown",
      "metadata": {
        "id": "_5uGA3-W1kqx",
        "colab_type": "text"
      },
      "source": [
        "# Codebook 생성\n",
        "\n",
        "- Kmeans 알고리즘을 이용하여 코드북을 생성합니다.\n",
        "- Colab의 메모리 문제로 MiniBatchKMeans를 사용합니다.\n"
      ]
    },
    {
      "cell_type": "code",
      "metadata": {
        "id": "_nlCpKOo52N0",
        "colab_type": "code",
        "outputId": "e1f9e42a-c27d-4b1b-c95c-583c540af4b1",
        "colab": {
          "base_uri": "https://localhost:8080/",
          "height": 145
        }
      },
      "source": [
        "#Kmeans-GPU\n",
        "\n",
        "now = time.gmtime(time.time())\n",
        "print(now.tm_year, now.tm_mon, now.tm_mday, now.tm_hour+9, now.tm_min, now.tm_sec)\n",
        "start=time.time()\n",
        "\n",
        "seeding = kmc2.kmc2(all_train_desc, k)\n",
        "#kmeans = KMeans(n_clusters = k, init=seeding)\n",
        "kmeans = MiniBatchKMeans(n_clusters = k, init=seeding)\n",
        "\n",
        "##########################################\n",
        "kmeans.fit(all_train_desc)\n",
        "##########################################\n",
        "\n",
        "print(time.time()-start, \"sec\")"
      ],
      "execution_count": 0,
      "outputs": [
        {
          "output_type": "stream",
          "text": [
            "2019 12 14 11 3 37\n"
          ],
          "name": "stdout"
        },
        {
          "output_type": "stream",
          "text": [
            "/usr/local/lib/python3.6/dist-packages/ipykernel_launcher.py:11: RuntimeWarning: Explicit initial center position passed: performing only one init in MiniBatchKMeans instead of n_init=3\n",
            "  # This is added back by InteractiveShellApp.init_path()\n",
            "/usr/local/lib/python3.6/dist-packages/sklearn/cluster/k_means_.py:1561: RuntimeWarning: init_size=300 should be larger than k=400. Setting it to 3*k\n",
            "  init_size=init_size)\n"
          ],
          "name": "stderr"
        },
        {
          "output_type": "stream",
          "text": [
            "425.86939907073975 sec\n"
          ],
          "name": "stdout"
        }
      ]
    },
    {
      "cell_type": "markdown",
      "metadata": {
        "id": "hv61j1An2A2Y",
        "colab_type": "text"
      },
      "source": [
        "### 세이브 파일 저장(권장)"
      ]
    },
    {
      "cell_type": "code",
      "metadata": {
        "id": "60Q6K6Z-A4su",
        "colab_type": "code",
        "colab": {}
      },
      "source": [
        "voc = kmeans.cluster_centers_\n",
        "\n",
        "with open(\"voca_\"+str(k)+\".pkl\", \"wb\") as f:\n",
        "  pickle.dump(voc, f)"
      ],
      "execution_count": 0,
      "outputs": []
    },
    {
      "cell_type": "code",
      "metadata": {
        "id": "ZpS-U7t3Er9V",
        "colab_type": "code",
        "colab": {}
      },
      "source": [
        "#files.download(\"./voca_\"+str(k)+\".pkl\")\n",
        "!cp voca_400.pkl /content/drive/'My Drive'/voca_400.pkl"
      ],
      "execution_count": 0,
      "outputs": []
    },
    {
      "cell_type": "code",
      "metadata": {
        "id": "G6hqoMR-Etr-",
        "colab_type": "code",
        "colab": {}
      },
      "source": [
        "with open(\"voca_\"+str(k)+\".pkl\", \"rb\") as f:\n",
        "  voc = pickle.load(f)\n",
        "kmeans.cluster_centers_ = voc"
      ],
      "execution_count": 0,
      "outputs": []
    },
    {
      "cell_type": "markdown",
      "metadata": {
        "id": "Y3Q7TDO-2Q8w",
        "colab_type": "text"
      },
      "source": [
        "# Spatial Pyramid Matching\n",
        "\n",
        "- SPM을 이용하여 코드북에 대한 이미지의 히스토그램을 구합니다."
      ]
    },
    {
      "cell_type": "code",
      "metadata": {
        "id": "0lYQu4LLJM7z",
        "colab_type": "code",
        "colab": {}
      },
      "source": [
        "def getImageFeaturesSPM(L, img, kmeans, k):\n",
        "    W = img.shape[1]\n",
        "    H = img.shape[0]   \n",
        "    h = []\n",
        "    for l in range(L+1):\n",
        "        w_step = math.floor(W/(2**l))\n",
        "        h_step = math.floor(H/(2**l))\n",
        "        x, y = 0, 0\n",
        "        for i in range(1,2**l + 1):\n",
        "            x = 0\n",
        "            for j in range(1, 2**l + 1):                \n",
        "                desc = extract_denseSIFT(img[y:y+h_step, x:x+w_step])\n",
        "                predict = kmeans.predict(desc)\n",
        "                histo = np.bincount(predict, minlength=k).reshape(1,-1).ravel()\n",
        "                weight = 2**(l-L)\n",
        "                h.append(weight*histo)\n",
        "                x = x + w_step\n",
        "            y = y + h_step\n",
        "            \n",
        "    hist = np.array(h).ravel()\n",
        "    # normalize hist\n",
        "    dev = np.std(hist)\n",
        "    mean = np.mean(hist)\n",
        "    hist = hist - mean\n",
        "    hist /= dev\n",
        "    return hist\n",
        "\n",
        "\n",
        "# get histogram representation for training/testing data\n",
        "def getHistogramSPM(L, data, kmeans, k):    \n",
        "    x = []\n",
        "    for i in tqdm(range(len(data))):        \n",
        "        hist = getImageFeaturesSPM(L, data[i], kmeans, k)        \n",
        "        x.append(hist)\n",
        "    return np.array(x)"
      ],
      "execution_count": 0,
      "outputs": []
    },
    {
      "cell_type": "code",
      "metadata": {
        "id": "P2e3FDt9551j",
        "colab_type": "code",
        "outputId": "9626e12a-54b5-42cb-aec9-9133cf8a463d",
        "colab": {
          "base_uri": "https://localhost:8080/",
          "height": 117,
          "referenced_widgets": [
            "e2eb349189074a028aabd9ad7b78ae59",
            "dccfb4c382114b3d9ac871c62bb47fae",
            "88c4853d34ff497eadf05178e7d0c758",
            "ab58505ff1304535970b903f31af1c35",
            "41df05ad8641430290387054f266ee2b",
            "25452f333ce745deba7c42f29b42215e",
            "76015f9b3f024be693dc3a9a8f495d1f",
            "3fd08cc17ee2451da7fe0dbd1482cf8a",
            "e5328e47a0124876bf7ffbff38877286",
            "5b9e25edb3e94370b9f818ccc424ede0",
            "9b4d94c25d7a4c15b67d0b4729b28168",
            "1add766148aa43acb3d27ffe1bf98856",
            "9c1651ce6d044f00bc92d1103f74bf8f",
            "ca736e2d38614d329d12f85419e2f2b7",
            "97718643cbb44864a93169986c7f11e4",
            "7f74c4bb192b44fb954951a3890ca727"
          ]
        }
      },
      "source": [
        "train_histo = getHistogramSPM(2, train_data, kmeans, k)\n",
        "test_histo = getHistogramSPM(2, test_data, kmeans, k)"
      ],
      "execution_count": 0,
      "outputs": [
        {
          "output_type": "display_data",
          "data": {
            "application/vnd.jupyter.widget-view+json": {
              "model_id": "e2eb349189074a028aabd9ad7b78ae59",
              "version_minor": 0,
              "version_major": 2
            },
            "text/plain": [
              "HBox(children=(IntProgress(value=0, max=3060), HTML(value='')))"
            ]
          },
          "metadata": {
            "tags": []
          }
        },
        {
          "output_type": "stream",
          "text": [
            "\n"
          ],
          "name": "stdout"
        },
        {
          "output_type": "display_data",
          "data": {
            "application/vnd.jupyter.widget-view+json": {
              "model_id": "e5328e47a0124876bf7ffbff38877286",
              "version_minor": 0,
              "version_major": 2
            },
            "text/plain": [
              "HBox(children=(IntProgress(value=0, max=1692), HTML(value='')))"
            ]
          },
          "metadata": {
            "tags": []
          }
        },
        {
          "output_type": "stream",
          "text": [
            "\n"
          ],
          "name": "stdout"
        }
      ]
    },
    {
      "cell_type": "markdown",
      "metadata": {
        "id": "kBP_BPJR26co",
        "colab_type": "text"
      },
      "source": [
        "### 세이브 파일 저장(옵션)"
      ]
    },
    {
      "cell_type": "code",
      "metadata": {
        "id": "LT1HoaeipQxS",
        "colab_type": "code",
        "colab": {}
      },
      "source": [
        "'''\n",
        "histogram = {\n",
        "    \"train_histo\" : train_histo,\n",
        "    \"test_histo\" : test_histo\n",
        "}\n",
        "'''"
      ],
      "execution_count": 0,
      "outputs": []
    },
    {
      "cell_type": "code",
      "metadata": {
        "id": "6Aqs3lt7rA0a",
        "colab_type": "code",
        "colab": {}
      },
      "source": [
        "'''\n",
        "with open(\"histogram.pkl\", \"wb\") as f:\n",
        "  pickle.dump(histogram, f)\n",
        "'''"
      ],
      "execution_count": 0,
      "outputs": []
    },
    {
      "cell_type": "code",
      "metadata": {
        "id": "rSAEG5LtTurF",
        "colab_type": "code",
        "colab": {}
      },
      "source": [
        "'''\n",
        "#!cp histogram_400_level3.pkl /content/drive/'My Drive'/histogram_400_level3.pkl\n",
        "!cp /content/drive/'My Drive'/histogram_400_level3.pkl histogram_400_level3.pkl\n",
        "'''"
      ],
      "execution_count": 0,
      "outputs": []
    },
    {
      "cell_type": "code",
      "metadata": {
        "id": "mXVonKhPUQP7",
        "colab_type": "code",
        "colab": {}
      },
      "source": [
        "'''\n",
        "with open(\"histogram_400_level3.pkl\", \"rb\") as f:\n",
        "  histogram = pickle.load(f)\n",
        "\n",
        "train_histo = histogram[\"train_histo\"]\n",
        "test_histo = histogram[\"test_histo\"]\n",
        "'''"
      ],
      "execution_count": 0,
      "outputs": []
    },
    {
      "cell_type": "code",
      "metadata": {
        "id": "kHYByz9opR5p",
        "colab_type": "code",
        "outputId": "9864ba88-ec9a-4b9b-cd6f-b1c2ef036397",
        "colab": {
          "base_uri": "https://localhost:8080/",
          "height": 73
        }
      },
      "source": [
        "'''\n",
        "lda = LinearDiscriminantAnalysis()\n",
        "lda_train_histo = lda.fit_transform(train_histo, train_label)\n",
        "'''"
      ],
      "execution_count": 0,
      "outputs": [
        {
          "output_type": "stream",
          "text": [
            "/usr/local/lib/python3.6/dist-packages/sklearn/discriminant_analysis.py:388: UserWarning: Variables are collinear.\n",
            "  warnings.warn(\"Variables are collinear.\")\n"
          ],
          "name": "stderr"
        }
      ]
    },
    {
      "cell_type": "markdown",
      "metadata": {
        "id": "q6Wa9-rt4AU2",
        "colab_type": "text"
      },
      "source": [
        "# Cross-validation\n",
        "\n",
        "- 오버피팅을 방지하고 성능 체크를 하기 위해 데이터를 train/validation으로 나누어 사용합니다."
      ]
    },
    {
      "cell_type": "code",
      "metadata": {
        "id": "rK7vl0XSEV3l",
        "colab_type": "code",
        "colab": {}
      },
      "source": [
        "split_xtrain, split_xtest, split_ytrain, split_ytest = train_test_split(train_histo, train_label, test_size=0.25, random_state=42)"
      ],
      "execution_count": 0,
      "outputs": []
    },
    {
      "cell_type": "code",
      "metadata": {
        "id": "6gVNe9ULEXh7",
        "colab_type": "code",
        "outputId": "769439db-add9-49d3-ed07-33f6993ccb2a",
        "colab": {
          "base_uri": "https://localhost:8080/",
          "height": 53
        }
      },
      "source": [
        "now = time.gmtime(time.time())\n",
        "print(now.tm_year, now.tm_mon, now.tm_mday, now.tm_hour+9, now.tm_min, now.tm_sec)\n",
        "start=time.time()\n",
        "\n",
        "svm = SVC(kernel='linear')\n",
        "svm.fit(split_xtrain, split_ytrain)\n",
        "\n",
        "print(time.time()-start, \"sec\")"
      ],
      "execution_count": 0,
      "outputs": [
        {
          "output_type": "stream",
          "text": [
            "2019 12 14 11 28 26\n",
            "121.5873167514801 sec\n"
          ],
          "name": "stdout"
        }
      ]
    },
    {
      "cell_type": "code",
      "metadata": {
        "id": "WTdNcF9wJ4AB",
        "colab_type": "code",
        "outputId": "9e1589b7-30f4-4f41-b766-110e290c92f4",
        "colab": {
          "base_uri": "https://localhost:8080/",
          "height": 1000
        }
      },
      "source": [
        "print(classification_report(svm.predict(split_xtest), split_ytest))"
      ],
      "execution_count": 0,
      "outputs": [
        {
          "output_type": "stream",
          "text": [
            "              precision    recall  f1-score   support\n",
            "\n",
            "           1       0.62      0.56      0.59         9\n",
            "           2       1.00      0.86      0.92         7\n",
            "           3       0.83      0.50      0.62        10\n",
            "           4       0.86      1.00      0.92         6\n",
            "           5       1.00      1.00      1.00        10\n",
            "           6       1.00      0.70      0.82        10\n",
            "           7       0.33      1.00      0.50         3\n",
            "           8       0.12      0.06      0.08        17\n",
            "           9       0.22      0.29      0.25         7\n",
            "          10       0.00      0.00      0.00        16\n",
            "          11       0.00      0.00      0.00         8\n",
            "          12       0.75      0.25      0.38        12\n",
            "          13       0.20      0.33      0.25         3\n",
            "          14       0.83      0.38      0.53        13\n",
            "          15       0.20      0.50      0.29         4\n",
            "          16       0.60      0.50      0.55         6\n",
            "          17       0.14      0.11      0.12         9\n",
            "          18       0.57      0.36      0.44        11\n",
            "          19       0.00      0.00      0.00         2\n",
            "          20       1.00      0.67      0.80        12\n",
            "          21       0.17      0.50      0.25         4\n",
            "          22       1.00      0.75      0.86        16\n",
            "          23       0.33      0.43      0.38         7\n",
            "          24       0.29      0.18      0.22        11\n",
            "          25       0.00      0.00      0.00        10\n",
            "          26       0.09      0.14      0.11         7\n",
            "          27       0.00      0.00      0.00         6\n",
            "          28       0.20      0.11      0.14         9\n",
            "          29       0.10      0.25      0.14         4\n",
            "          30       0.09      0.33      0.14         3\n",
            "          31       0.40      0.50      0.44         4\n",
            "          32       0.38      0.21      0.27        14\n",
            "          33       0.62      0.45      0.53        11\n",
            "          34       0.20      0.09      0.13        11\n",
            "          35       0.33      0.50      0.40         6\n",
            "          36       0.38      0.75      0.50         4\n",
            "          37       0.17      0.17      0.17         6\n",
            "          38       0.67      0.27      0.38        15\n",
            "          39       0.50      1.00      0.67         5\n",
            "          40       0.29      0.33      0.31         6\n",
            "          41       0.25      0.30      0.27        10\n",
            "          42       0.30      0.27      0.29        11\n",
            "          43       0.38      0.38      0.38         8\n",
            "          44       0.50      1.00      0.67         4\n",
            "          45       0.40      0.20      0.27        10\n",
            "          46       0.10      0.50      0.17         2\n",
            "          47       0.67      1.00      0.80         6\n",
            "          48       0.29      0.25      0.27         8\n",
            "          49       0.50      0.38      0.43         8\n",
            "          50       0.00      0.00      0.00         2\n",
            "          51       0.00      0.00      0.00         7\n",
            "          52       0.29      0.17      0.21        12\n",
            "          53       0.67      0.50      0.57         8\n",
            "          54       0.50      0.20      0.29        10\n",
            "          55       0.38      0.23      0.29        13\n",
            "          56       0.22      0.22      0.22         9\n",
            "          57       0.57      0.80      0.67         5\n",
            "          58       0.57      0.67      0.62         6\n",
            "          59       0.33      0.60      0.43         5\n",
            "          60       0.17      0.20      0.18         5\n",
            "          61       0.00      0.00      0.00         5\n",
            "          62       0.25      0.22      0.24         9\n",
            "          63       0.17      0.11      0.13         9\n",
            "          64       0.50      0.67      0.57         3\n",
            "          65       0.80      0.89      0.84         9\n",
            "          66       1.00      0.75      0.86        12\n",
            "          67       0.14      0.11      0.12         9\n",
            "          68       0.17      0.12      0.14         8\n",
            "          69       0.50      0.33      0.40         6\n",
            "          70       0.83      1.00      0.91         5\n",
            "          71       0.25      0.67      0.36         3\n",
            "          72       0.12      0.25      0.17         4\n",
            "          73       0.27      0.60      0.37         5\n",
            "          74       0.43      0.50      0.46         6\n",
            "          75       0.25      0.75      0.38         4\n",
            "          76       0.71      1.00      0.83         5\n",
            "          77       0.25      0.33      0.29         6\n",
            "          78       0.56      0.56      0.56         9\n",
            "          79       0.38      0.50      0.43         6\n",
            "          80       0.40      0.29      0.33         7\n",
            "          81       0.50      0.43      0.46         7\n",
            "          82       0.60      0.18      0.27        17\n",
            "          83       0.12      0.50      0.20         2\n",
            "          84       0.33      0.33      0.33         6\n",
            "          85       0.67      0.40      0.50         5\n",
            "          86       0.60      0.86      0.71         7\n",
            "          87       0.00      0.00      0.00         3\n",
            "          88       0.50      0.40      0.44        10\n",
            "          89       0.50      0.80      0.62         5\n",
            "          90       0.10      1.00      0.18         1\n",
            "          91       0.43      1.00      0.60         3\n",
            "          92       0.44      0.44      0.44         9\n",
            "          93       0.80      0.57      0.67         7\n",
            "          94       0.71      0.42      0.53        12\n",
            "          95       0.43      0.38      0.40         8\n",
            "          96       0.00      0.00      0.00        11\n",
            "          97       0.12      0.17      0.14         6\n",
            "          98       0.33      0.20      0.25        10\n",
            "          99       0.67      1.00      0.80         4\n",
            "         100       0.80      0.80      0.80         5\n",
            "         101       0.90      1.00      0.95         9\n",
            "         102       0.11      0.20      0.14         5\n",
            "\n",
            "    accuracy                           0.39       765\n",
            "   macro avg       0.40      0.44      0.39       765\n",
            "weighted avg       0.44      0.39      0.39       765\n",
            "\n"
          ],
          "name": "stdout"
        }
      ]
    },
    {
      "cell_type": "code",
      "metadata": {
        "id": "8F3x6gyGPDfI",
        "colab_type": "code",
        "colab": {}
      },
      "source": [
        "result = svm.predict(test_histo)"
      ],
      "execution_count": 0,
      "outputs": []
    },
    {
      "cell_type": "markdown",
      "metadata": {
        "id": "PmPVFnDbYf6u",
        "colab_type": "text"
      },
      "source": [
        "k=400 L=3 image_size=64 svm='linear' 35%"
      ]
    },
    {
      "cell_type": "markdown",
      "metadata": {
        "id": "w95AZeuR4lYp",
        "colab_type": "text"
      },
      "source": [
        "# GridSearch\n",
        "\n",
        "- 파라미터 튜닝을 통해 성능 최적화를 진행합니다.\n",
        "\n",
        "  단, 여기서 추천된 파라미터가 무조건 테스트 데이터셋에도  최고 성능으로 적용된다고 보장할 수는 없습니다."
      ]
    },
    {
      "cell_type": "code",
      "metadata": {
        "id": "SoBpkXDjXx3U",
        "colab_type": "code",
        "colab": {}
      },
      "source": [
        "param_grid = {\n",
        "    'kernel' : ['linear', 'rbf'],\n",
        "    'C': [1e-5,  1e-3,  1e-1, 0, 1e1, 1e3, 1e5],\n",
        "    'gamma': [1e-5, 1e-3, 1e-1, 0, 1e+1, 1e+3, 1e+5], \n",
        "}\n",
        "\n",
        "svc = SVC()\n",
        "svm = GridSearchCV(svc, param_grid=param_grid)\n",
        "\n",
        "now = time.gmtime(time.time())\n",
        "print(now.tm_year, now.tm_mon, now.tm_mday, now.tm_hour+9, now.tm_min, now.tm_sec)\n",
        "start=time.time()\n",
        "\n",
        "##########################################\n",
        "svm.fit(split_xtrain, split_ytrain)\n",
        "##########################################\n",
        "\n",
        "print(time.time()-start, \"sec\")"
      ],
      "execution_count": 0,
      "outputs": []
    },
    {
      "cell_type": "code",
      "metadata": {
        "id": "uslJrKJ95bAV",
        "colab_type": "code",
        "colab": {}
      },
      "source": [
        "print(classification_report(svm.predict(split_xtest), split_ytest))"
      ],
      "execution_count": 0,
      "outputs": []
    },
    {
      "cell_type": "code",
      "metadata": {
        "id": "K-1SzcQ2sBzx",
        "colab_type": "code",
        "colab": {}
      },
      "source": [
        "result = svm.predict(test_histo)"
      ],
      "execution_count": 0,
      "outputs": []
    },
    {
      "cell_type": "markdown",
      "metadata": {
        "id": "mIYqv_M_6pHJ",
        "colab_type": "text"
      },
      "source": [
        "# 결과 저장\n",
        "- pandas를 이용하여 csv로 저장합니다.\n",
        "- 가급적이면 파일명에 파라미터 정보를 기록합니다."
      ]
    },
    {
      "cell_type": "code",
      "metadata": {
        "id": "HAHaMNosCZ8J",
        "colab_type": "code",
        "outputId": "4bef9330-11ba-45bc-f7f7-f1d93617b1a0",
        "colab": {
          "base_uri": "https://localhost:8080/",
          "height": 35
        }
      },
      "source": [
        "import pandas as pd\n",
        "\n",
        "print(result.shape)\n",
        "df = pd.DataFrame(result, columns=['Category'])\n",
        "df.index = test_filename\n",
        "df.index.name = 'Id'\n",
        "df.to_csv('result_namhun_kim.csv',index=True, header=True)"
      ],
      "execution_count": 0,
      "outputs": [
        {
          "output_type": "stream",
          "text": [
            "(1692,)\n"
          ],
          "name": "stdout"
        }
      ]
    },
    {
      "cell_type": "markdown",
      "metadata": {
        "id": "JAAC8HNJ6xlh",
        "colab_type": "text"
      },
      "source": [
        "# Kaggle에 제출"
      ]
    },
    {
      "cell_type": "code",
      "metadata": {
        "id": "9VfexNe3Cnvm",
        "colab_type": "code",
        "outputId": "b1da1bce-3a35-453c-8308-79ae7742c384",
        "colab": {
          "base_uri": "https://localhost:8080/",
          "height": 53
        }
      },
      "source": [
        "! kaggle competitions submit -c 2019-ml-finalproject -f result_namhun_kim.csv -m \"Namhun Kim\""
      ],
      "execution_count": 0,
      "outputs": [
        {
          "output_type": "stream",
          "text": [
            "100% 29.6k/29.6k [00:05<00:00, 5.09kB/s]\n",
            "Successfully submitted to 2019.Fall.PatternRecognition "
          ],
          "name": "stdout"
        }
      ]
    },
    {
      "cell_type": "markdown",
      "metadata": {
        "id": "urbnR4lm67oh",
        "colab_type": "text"
      },
      "source": [
        "# ***SOTA 결과가 나왔다면 [파일] -> [버전 저장 및 고정] 또는 `Ctrl+M S`를 통해 세이브합니다.***"
      ]
    }
  ]
}